{
 "cells": [
  {
   "cell_type": "code",
   "execution_count": 1,
   "id": "8e7cf666",
   "metadata": {},
   "outputs": [],
   "source": [
    "import pickle\n",
    "import numpy as np\n",
    "filename = 'diabetes_knn.pkl'\n",
    "knn = pickle.load(open(filename, 'rb'))"
   ]
  },
  {
   "cell_type": "code",
   "execution_count": 5,
   "id": "e1c85a91",
   "metadata": {
    "scrolled": true
   },
   "outputs": [
    {
     "name": "stdout",
     "output_type": "stream",
     "text": [
      "Enter no of times pregnant:\n",
      "0\n",
      "Enter Glucose levels :\n",
      "26\n",
      "Enter BP levels (mm hg):\n",
      "72\n",
      "Enter skin_thickness (mm):\n",
      "30\n",
      "Enter Insulin levels (mu U/ml):\n",
      "0\n",
      "Enter BMI Index (kg/(height in m)^2):\n",
      "26.5\n",
      "Enter pedigree_function:\n",
      "0.2\n",
      "Enter age(years):\n",
      "25\n",
      "\n",
      "You are diabetic!!! please visit a doctor\n"
     ]
    }
   ],
   "source": [
    "Pregnancy=int(input(\"Enter no of times pregnant:\\n\"))\n",
    "Glucose=int(input(\"Enter Glucose levels :\\n\"))\n",
    "BP=int(input(\"Enter BP levels (mm hg):\\n\"))\n",
    "skin_Thickness=int(input(\"Enter skin_thickness (mm):\\n\"))\n",
    "Insulin=int(input(\"Enter Insulin levels (mu U/ml):\\n\"))\n",
    "BMI=float(input(\"Enter BMI Index (kg/(height in m)^2):\\n\"))\n",
    "pedigree_function=float(input(\"Enter pedigree_function:\\n\"))\n",
    "Age=int(input(\"Enter age(years):\\n\"))\n",
    "\n",
    "print()\n",
    "\n",
    "inputs=[Pregnancy,Glucose,BP,skin_Thickness,Insulin,BMI,pedigree_function,Age]\n",
    "inputs=np.array([inputs])\n",
    "pred=knn.predict(inputs)\n",
    "if pred==0:\n",
    "    print(\"hurray!!! you are not diabetic \")\n",
    "else:\n",
    "    print(\"You are diabetic!!! please visit a doctor\")"
   ]
  },
  {
   "cell_type": "code",
   "execution_count": null,
   "id": "2529e49f",
   "metadata": {},
   "outputs": [],
   "source": []
  }
 ],
 "metadata": {
  "kernelspec": {
   "display_name": "Python 3",
   "language": "python",
   "name": "python3"
  },
  "language_info": {
   "codemirror_mode": {
    "name": "ipython",
    "version": 3
   },
   "file_extension": ".py",
   "mimetype": "text/x-python",
   "name": "python",
   "nbconvert_exporter": "python",
   "pygments_lexer": "ipython3",
   "version": "3.9.4"
  }
 },
 "nbformat": 4,
 "nbformat_minor": 5
}
